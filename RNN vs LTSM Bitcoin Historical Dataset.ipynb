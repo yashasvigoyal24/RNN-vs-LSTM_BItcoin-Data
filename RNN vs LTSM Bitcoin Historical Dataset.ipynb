{
 "cells": [
  {
   "cell_type": "code",
   "execution_count": 1,
   "id": "858ca3f0",
   "metadata": {},
   "outputs": [],
   "source": [
    "import numpy as np \n",
    "import pandas as pd\n",
    "import matplotlib.pyplot as plt"
   ]
  },
  {
   "cell_type": "code",
   "execution_count": 2,
   "id": "a6e90ec2",
   "metadata": {},
   "outputs": [],
   "source": [
    "bit_data=pd.read_csv(\"bitstampUSD_1-min_data_2012-01-01_to_2019-03-13.csv\")\n",
    "bit_data[\"date\"]=pd.to_datetime(bit_data[\"Timestamp\"],unit=\"s\").dt.date\n",
    "group=bit_data.groupby(\"date\")\n",
    "data=group[\"Close\"].mean()"
   ]
  },
  {
   "cell_type": "markdown",
   "id": "f4db3917",
   "metadata": {},
   "source": [
    "In the above step a colum which \"date\" is and converted \"Timestamp\" columns to date form."
   ]
  },
  {
   "cell_type": "code",
   "execution_count": 3,
   "id": "abcfd56d",
   "metadata": {},
   "outputs": [
    {
     "data": {
      "text/plain": [
       "(2627,)"
      ]
     },
     "execution_count": 3,
     "metadata": {},
     "output_type": "execute_result"
    }
   ],
   "source": [
    "data.shape"
   ]
  },
  {
   "cell_type": "code",
   "execution_count": 4,
   "id": "c2a86059",
   "metadata": {},
   "outputs": [
    {
     "data": {
      "text/plain": [
       "0"
      ]
     },
     "execution_count": 4,
     "metadata": {},
     "output_type": "execute_result"
    }
   ],
   "source": [
    "data.isnull().sum()"
   ]
  },
  {
   "cell_type": "code",
   "execution_count": 6,
   "id": "cb1724f9",
   "metadata": {},
   "outputs": [
    {
     "data": {
      "text/plain": [
       "date\n",
       "2011-12-31    4.482500\n",
       "2012-01-01    4.806667\n",
       "2012-01-02    5.000000\n",
       "2012-01-03    5.252500\n",
       "2012-01-04    5.223333\n",
       "Name: Close, dtype: float64"
      ]
     },
     "execution_count": 6,
     "metadata": {},
     "output_type": "execute_result"
    }
   ],
   "source": [
    "data.head()"
   ]
  },
  {
   "cell_type": "markdown",
   "id": "08a5870d",
   "metadata": {},
   "source": [
    "<h1> RNN </h1>"
   ]
  },
  {
   "cell_type": "markdown",
   "id": "66d4b9c4",
   "metadata": {},
   "source": [
    "Separating last 50 rows as test set"
   ]
  },
  {
   "cell_type": "code",
   "execution_count": 7,
   "id": "5b96f38f",
   "metadata": {},
   "outputs": [],
   "source": [
    "close_train=data.iloc[:len(data)-50]\n",
    "close_test=data.iloc[len(close_train):]"
   ]
  },
  {
   "cell_type": "markdown",
   "id": "83130430",
   "metadata": {},
   "source": [
    "feature scalling (set values between 0-1) to avoid domination of high values"
   ]
  },
  {
   "cell_type": "code",
   "execution_count": 8,
   "id": "71c24236",
   "metadata": {},
   "outputs": [],
   "source": [
    "#feature scalling (set values between 0-1)\n",
    "close_train=np.array(close_train)\n",
    "close_train=close_train.reshape(close_train.shape[0],1)\n",
    "from sklearn.preprocessing import MinMaxScaler\n",
    "scaler=MinMaxScaler(feature_range=(0,1))\n",
    "close_scaled=scaler.fit_transform(close_train)"
   ]
  },
  {
   "cell_type": "markdown",
   "id": "717b8287",
   "metadata": {},
   "source": [
    "choosing each 50 data as x-train and 51th as y-train"
   ]
  },
  {
   "cell_type": "code",
   "execution_count": 9,
   "id": "80411e6b",
   "metadata": {},
   "outputs": [
    {
     "name": "stdout",
     "output_type": "stream",
     "text": [
      "x_train shape=  (2527, 50, 1)\n",
      "y_train shape=  (2527,)\n"
     ]
    }
   ],
   "source": [
    "timestep=50\n",
    "x_train=[]\n",
    "y_train=[]\n",
    "\n",
    "for i in range(timestep,close_scaled.shape[0]):\n",
    "    x_train.append(close_scaled[i-timestep:i,0])\n",
    "    y_train.append(close_scaled[i,0])\n",
    "\n",
    "x_train,y_train=np.array(x_train),np.array(y_train)\n",
    "x_train=x_train.reshape(x_train.shape[0],x_train.shape[1],1) #reshaped for RNN\n",
    "print(\"x_train shape= \",x_train.shape)\n",
    "print(\"y_train shape= \",y_train.shape)"
   ]
  },
  {
   "cell_type": "code",
   "execution_count": 10,
   "id": "9ff5dd72",
   "metadata": {},
   "outputs": [
    {
     "name": "stdout",
     "output_type": "stream",
     "text": [
      "Epoch 1/100\n",
      "40/40 [==============================] - 23s 427ms/step - loss: 0.0053\n",
      "Epoch 2/100\n",
      "40/40 [==============================] - 17s 432ms/step - loss: 0.0021\n",
      "Epoch 3/100\n",
      "40/40 [==============================] - 18s 437ms/step - loss: 0.0021\n",
      "Epoch 4/100\n",
      "40/40 [==============================] - 18s 442ms/step - loss: 0.0014\n",
      "Epoch 5/100\n",
      "40/40 [==============================] - 18s 454ms/step - loss: 0.0013\n",
      "Epoch 6/100\n",
      "40/40 [==============================] - 18s 453ms/step - loss: 0.0011\n",
      "Epoch 7/100\n",
      "40/40 [==============================] - 19s 475ms/step - loss: 9.3226e-04\n",
      "Epoch 8/100\n",
      "40/40 [==============================] - 19s 465ms/step - loss: 9.3228e-04\n",
      "Epoch 9/100\n",
      "40/40 [==============================] - 18s 454ms/step - loss: 0.0011\n",
      "Epoch 10/100\n",
      "40/40 [==============================] - 18s 454ms/step - loss: 7.0764e-04\n",
      "Epoch 11/100\n",
      "40/40 [==============================] - 19s 467ms/step - loss: 6.9099e-04\n",
      "Epoch 12/100\n",
      "40/40 [==============================] - 18s 462ms/step - loss: 6.8395e-04\n",
      "Epoch 13/100\n",
      "40/40 [==============================] - 20s 498ms/step - loss: 7.0868e-04\n",
      "Epoch 14/100\n",
      "40/40 [==============================] - 19s 467ms/step - loss: 6.8448e-04\n",
      "Epoch 15/100\n",
      "40/40 [==============================] - 19s 475ms/step - loss: 6.4052e-04\n",
      "Epoch 16/100\n",
      "40/40 [==============================] - 24s 596ms/step - loss: 0.0012\n",
      "Epoch 17/100\n",
      "40/40 [==============================] - 21s 520ms/step - loss: 5.9208e-04\n",
      "Epoch 18/100\n",
      "40/40 [==============================] - 20s 513ms/step - loss: 5.0943e-04\n",
      "Epoch 19/100\n",
      "40/40 [==============================] - 22s 541ms/step - loss: 4.2634e-04\n",
      "Epoch 20/100\n",
      "40/40 [==============================] - 17s 418ms/step - loss: 5.4280e-04\n",
      "Epoch 21/100\n",
      "40/40 [==============================] - 10s 256ms/step - loss: 6.8820e-04\n",
      "Epoch 22/100\n",
      "40/40 [==============================] - 10s 250ms/step - loss: 6.6118e-04\n",
      "Epoch 23/100\n",
      "40/40 [==============================] - 10s 260ms/step - loss: 5.5571e-04\n",
      "Epoch 24/100\n",
      "40/40 [==============================] - 10s 250ms/step - loss: 5.5203e-04\n",
      "Epoch 25/100\n",
      "40/40 [==============================] - 11s 264ms/step - loss: 4.3002e-04\n",
      "Epoch 26/100\n",
      "40/40 [==============================] - 11s 265ms/step - loss: 3.4353e-04\n",
      "Epoch 27/100\n",
      "40/40 [==============================] - 10s 262ms/step - loss: 3.8369e-04\n",
      "Epoch 28/100\n",
      "40/40 [==============================] - 11s 269ms/step - loss: 4.8551e-04\n",
      "Epoch 29/100\n",
      "40/40 [==============================] - 11s 268ms/step - loss: 6.4111e-04\n",
      "Epoch 30/100\n",
      "40/40 [==============================] - 11s 262ms/step - loss: 4.2108e-04\n",
      "Epoch 31/100\n",
      "40/40 [==============================] - 11s 277ms/step - loss: 4.1631e-04\n",
      "Epoch 32/100\n",
      "40/40 [==============================] - 11s 270ms/step - loss: 3.9787e-04\n",
      "Epoch 33/100\n",
      "40/40 [==============================] - 11s 269ms/step - loss: 4.9570e-04\n",
      "Epoch 34/100\n",
      "40/40 [==============================] - 11s 276ms/step - loss: 4.3108e-04\n",
      "Epoch 35/100\n",
      "40/40 [==============================] - 12s 295ms/step - loss: 4.3712e-04\n",
      "Epoch 36/100\n",
      "40/40 [==============================] - 12s 290ms/step - loss: 3.9039e-04\n",
      "Epoch 37/100\n",
      "40/40 [==============================] - 11s 273ms/step - loss: 4.4250e-04\n",
      "Epoch 38/100\n",
      "40/40 [==============================] - 12s 291ms/step - loss: 4.8073e-04\n",
      "Epoch 39/100\n",
      "40/40 [==============================] - 12s 292ms/step - loss: 3.9013e-04\n",
      "Epoch 40/100\n",
      "40/40 [==============================] - 11s 277ms/step - loss: 3.4141e-04\n",
      "Epoch 41/100\n",
      "40/40 [==============================] - 12s 295ms/step - loss: 4.5249e-04\n",
      "Epoch 42/100\n",
      "40/40 [==============================] - 11s 285ms/step - loss: 4.1327e-04\n",
      "Epoch 43/100\n",
      "40/40 [==============================] - 12s 310ms/step - loss: 3.5981e-04\n",
      "Epoch 44/100\n",
      "40/40 [==============================] - 12s 288ms/step - loss: 5.0259e-04\n",
      "Epoch 45/100\n",
      "40/40 [==============================] - 12s 293ms/step - loss: 4.7343e-04\n",
      "Epoch 46/100\n",
      "40/40 [==============================] - 12s 306ms/step - loss: 3.3262e-04\n",
      "Epoch 47/100\n",
      "40/40 [==============================] - 12s 288ms/step - loss: 3.4513e-04\n",
      "Epoch 48/100\n",
      "40/40 [==============================] - 13s 322ms/step - loss: 3.1159e-04\n",
      "Epoch 49/100\n",
      "40/40 [==============================] - 13s 329ms/step - loss: 3.8822e-04\n",
      "Epoch 50/100\n",
      "40/40 [==============================] - 12s 309ms/step - loss: 4.4789e-04\n",
      "Epoch 51/100\n",
      "40/40 [==============================] - 14s 342ms/step - loss: 3.7594e-04\n",
      "Epoch 52/100\n",
      "40/40 [==============================] - 12s 304ms/step - loss: 4.9408e-04\n",
      "Epoch 53/100\n",
      "40/40 [==============================] - 14s 340ms/step - loss: 3.2913e-04\n",
      "Epoch 54/100\n",
      "40/40 [==============================] - 14s 357ms/step - loss: 4.0964e-04\n",
      "Epoch 55/100\n",
      "40/40 [==============================] - 14s 338ms/step - loss: 3.5459e-04\n",
      "Epoch 56/100\n",
      "40/40 [==============================] - 14s 350ms/step - loss: 4.2554e-04\n",
      "Epoch 57/100\n",
      "40/40 [==============================] - 13s 334ms/step - loss: 2.8701e-04\n",
      "Epoch 58/100\n",
      "40/40 [==============================] - 13s 331ms/step - loss: 2.9416e-04\n",
      "Epoch 59/100\n",
      "40/40 [==============================] - 12s 307ms/step - loss: 3.8417e-04\n",
      "Epoch 60/100\n",
      "40/40 [==============================] - 12s 307ms/step - loss: 4.5299e-04\n",
      "Epoch 61/100\n",
      "40/40 [==============================] - 12s 311ms/step - loss: 3.4142e-04\n",
      "Epoch 62/100\n",
      "40/40 [==============================] - 12s 312ms/step - loss: 3.0951e-04\n",
      "Epoch 63/100\n",
      "40/40 [==============================] - 13s 317ms/step - loss: 3.2934e-04\n",
      "Epoch 64/100\n",
      "40/40 [==============================] - 12s 301ms/step - loss: 3.5546e-04\n",
      "Epoch 65/100\n",
      "40/40 [==============================] - 12s 309ms/step - loss: 3.1385e-04\n",
      "Epoch 66/100\n",
      "40/40 [==============================] - 12s 310ms/step - loss: 3.1575e-04\n",
      "Epoch 67/100\n",
      "40/40 [==============================] - 12s 308ms/step - loss: 2.8617e-04\n",
      "Epoch 68/100\n",
      "40/40 [==============================] - 12s 310ms/step - loss: 2.7446e-04\n",
      "Epoch 69/100\n",
      "40/40 [==============================] - 13s 319ms/step - loss: 3.0118e-04\n",
      "Epoch 70/100\n",
      "40/40 [==============================] - 12s 311ms/step - loss: 3.5261e-04\n",
      "Epoch 71/100\n",
      "40/40 [==============================] - 12s 308ms/step - loss: 3.2001e-04\n",
      "Epoch 72/100\n",
      "40/40 [==============================] - 12s 310ms/step - loss: 2.9015e-04\n",
      "Epoch 73/100\n",
      "40/40 [==============================] - 12s 303ms/step - loss: 3.4182e-04\n",
      "Epoch 74/100\n",
      "40/40 [==============================] - 12s 310ms/step - loss: 3.2477e-04\n",
      "Epoch 75/100\n",
      "40/40 [==============================] - 13s 322ms/step - loss: 6.3374e-04\n",
      "Epoch 76/100\n",
      "40/40 [==============================] - 12s 309ms/step - loss: 3.2022e-04\n",
      "Epoch 77/100\n",
      "40/40 [==============================] - 12s 305ms/step - loss: 3.1924e-04\n",
      "Epoch 78/100\n",
      "40/40 [==============================] - 12s 305ms/step - loss: 2.8841e-04\n",
      "Epoch 79/100\n",
      "40/40 [==============================] - 12s 309ms/step - loss: 3.1657e-04\n",
      "Epoch 80/100\n",
      "40/40 [==============================] - 13s 326ms/step - loss: 3.6423e-04\n",
      "Epoch 81/100\n",
      "40/40 [==============================] - 12s 310ms/step - loss: 2.8278e-04\n",
      "Epoch 82/100\n",
      "40/40 [==============================] - 13s 330ms/step - loss: 3.5341e-04\n",
      "Epoch 83/100\n",
      "40/40 [==============================] - 12s 311ms/step - loss: 4.4443e-04\n",
      "Epoch 84/100\n",
      "40/40 [==============================] - 12s 311ms/step - loss: 3.2463e-04\n",
      "Epoch 85/100\n",
      "40/40 [==============================] - 12s 310ms/step - loss: 2.7736e-04\n",
      "Epoch 86/100\n",
      "40/40 [==============================] - 12s 312ms/step - loss: 5.9679e-04\n",
      "Epoch 87/100\n",
      "40/40 [==============================] - 13s 320ms/step - loss: 4.0350e-04\n",
      "Epoch 88/100\n",
      "40/40 [==============================] - 13s 318ms/step - loss: 3.9693e-04\n",
      "Epoch 89/100\n",
      "40/40 [==============================] - 13s 313ms/step - loss: 2.9468e-04\n",
      "Epoch 90/100\n",
      "40/40 [==============================] - 13s 320ms/step - loss: 3.5613e-04\n",
      "Epoch 91/100\n",
      "40/40 [==============================] - 12s 309ms/step - loss: 3.5663e-04\n",
      "Epoch 92/100\n",
      "40/40 [==============================] - 13s 313ms/step - loss: 4.4011e-04\n",
      "Epoch 93/100\n",
      "40/40 [==============================] - 13s 315ms/step - loss: 3.7411e-04\n",
      "Epoch 94/100\n"
     ]
    },
    {
     "name": "stdout",
     "output_type": "stream",
     "text": [
      "40/40 [==============================] - 13s 321ms/step - loss: 2.3586e-04\n",
      "Epoch 95/100\n",
      "40/40 [==============================] - 13s 325ms/step - loss: 2.6800e-04\n",
      "Epoch 96/100\n",
      "40/40 [==============================] - 13s 324ms/step - loss: 3.9753e-04\n",
      "Epoch 97/100\n",
      "40/40 [==============================] - 13s 320ms/step - loss: 3.2022e-04\n",
      "Epoch 98/100\n",
      "40/40 [==============================] - 13s 332ms/step - loss: 2.9220e-04\n",
      "Epoch 99/100\n",
      "40/40 [==============================] - 13s 315ms/step - loss: 4.7608e-04\n",
      "Epoch 100/100\n",
      "40/40 [==============================] - 13s 317ms/step - loss: 3.8201e-04\n"
     ]
    },
    {
     "data": {
      "text/plain": [
       "<keras.callbacks.History at 0x211d9e20bb0>"
      ]
     },
     "execution_count": 10,
     "metadata": {},
     "output_type": "execute_result"
    }
   ],
   "source": [
    "from keras.models import Sequential\n",
    "from keras.layers import Dense, SimpleRNN, Dropout,Flatten\n",
    "\n",
    "regressor=Sequential()\n",
    "#first RNN layer\n",
    "regressor.add(SimpleRNN(128,activation=\"relu\",return_sequences=True,input_shape=(x_train.shape[1],1)))\n",
    "regressor.add(Dropout(0.25))\n",
    "#second RNN layer\n",
    "regressor.add(SimpleRNN(256,activation=\"relu\",return_sequences=True))\n",
    "regressor.add(Dropout(0.25))\n",
    "#third RNN layer\n",
    "regressor.add(SimpleRNN(512,activation=\"relu\",return_sequences=True))\n",
    "regressor.add(Dropout(0.35))\n",
    "#fourth RNN layer\n",
    "regressor.add(SimpleRNN(256,activation=\"relu\",return_sequences=True))\n",
    "regressor.add(Dropout(0.25))\n",
    "#fifth RNN layer\n",
    "regressor.add(SimpleRNN(128,activation=\"relu\",return_sequences=True))\n",
    "regressor.add(Dropout(0.25))\n",
    "#convert the matrix to 1-line\n",
    "regressor.add(Flatten())\n",
    "#output layer\n",
    "regressor.add(Dense(1))\n",
    "\n",
    "regressor.compile(optimizer=\"adam\",loss=\"mean_squared_error\")\n",
    "regressor.fit(x_train,y_train,epochs=100,batch_size=64)"
   ]
  },
  {
   "cell_type": "markdown",
   "id": "5aa3a667",
   "metadata": {},
   "source": [
    "preparing test data for prediction"
   ]
  },
  {
   "cell_type": "code",
   "execution_count": 11,
   "id": "e4d368c4",
   "metadata": {},
   "outputs": [],
   "source": [
    "inputs=data[len(data)-len(close_test)-timestep:]\n",
    "inputs=inputs.values.reshape(-1,1)\n",
    "inputs=scaler.transform(inputs)"
   ]
  },
  {
   "cell_type": "code",
   "execution_count": 12,
   "id": "50a45d07",
   "metadata": {},
   "outputs": [],
   "source": [
    "x_test=[]\n",
    "for i in range(timestep,inputs.shape[0]):\n",
    "    x_test.append(inputs[i-timestep:i,0])\n",
    "x_test=np.array(x_test)\n",
    "x_test=x_test.reshape(x_test.shape[0],x_test.shape[1],1)"
   ]
  },
  {
   "cell_type": "code",
   "execution_count": 13,
   "id": "ceda36b4",
   "metadata": {},
   "outputs": [
    {
     "name": "stdout",
     "output_type": "stream",
     "text": [
      "2/2 [==============================] - 3s 26ms/step\n"
     ]
    }
   ],
   "source": [
    "predicted_data=regressor.predict(x_test)\n",
    "predicted_data=scaler.inverse_transform(predicted_data)"
   ]
  },
  {
   "cell_type": "code",
   "execution_count": 14,
   "id": "2cbb2db4",
   "metadata": {},
   "outputs": [],
   "source": [
    "data_test=np.array(close_test)\n",
    "data_test=data_test.reshape(len(data_test),1)"
   ]
  },
  {
   "cell_type": "code",
   "execution_count": 15,
   "id": "4f0f0335",
   "metadata": {},
   "outputs": [
    {
     "data": {
      "image/png": "[encoded data removed]",
      "text/plain": [
       "<Figure size 640x320 with 1 Axes>"
      ]
     },
     "metadata": {},
     "output_type": "display_data"
    }
   ],
   "source": [
    "plt.figure(figsize=(8,4), dpi=80, facecolor='w', edgecolor='k')\n",
    "plt.plot(data_test,color=\"r\",label=\"true result\")\n",
    "plt.plot(predicted_data,color=\"b\",label=\"predicted result\")\n",
    "plt.legend()\n",
    "plt.xlabel(\"Time(50 days)\")\n",
    "plt.ylabel(\"Close Values\")\n",
    "plt.grid(True)\n",
    "plt.show()"
   ]
  },
  {
   "cell_type": "markdown",
   "id": "090a4f07",
   "metadata": {},
   "source": [
    "Now applying LTSM"
   ]
  },
  {
   "cell_type": "code",
   "execution_count": 16,
   "id": "a9522730",
   "metadata": {},
   "outputs": [
    {
     "name": "stdout",
     "output_type": "stream",
     "text": [
      "Epoch 1/100\n",
      "79/79 [==============================] - 1s 8ms/step - loss: 0.0147\n",
      "Epoch 2/100\n",
      "79/79 [==============================] - 1s 9ms/step - loss: 0.0011\n",
      "Epoch 3/100\n",
      "79/79 [==============================] - 1s 10ms/step - loss: 6.1903e-04\n",
      "Epoch 4/100\n",
      "79/79 [==============================] - 1s 9ms/step - loss: 5.4692e-04\n",
      "Epoch 5/100\n",
      "79/79 [==============================] - 1s 8ms/step - loss: 5.3787e-04\n",
      "Epoch 6/100\n",
      "79/79 [==============================] - 1s 8ms/step - loss: 4.8889e-04\n",
      "Epoch 7/100\n",
      "79/79 [==============================] - 1s 8ms/step - loss: 4.5617e-04\n",
      "Epoch 8/100\n",
      "79/79 [==============================] - 1s 8ms/step - loss: 4.3017e-04\n",
      "Epoch 9/100\n",
      "79/79 [==============================] - 1s 8ms/step - loss: 3.8370e-04\n",
      "Epoch 10/100\n",
      "79/79 [==============================] - 1s 8ms/step - loss: 3.5111e-04\n",
      "Epoch 11/100\n",
      "79/79 [==============================] - 1s 8ms/step - loss: 3.1892e-04\n",
      "Epoch 12/100\n",
      "79/79 [==============================] - 1s 8ms/step - loss: 3.2436e-04\n",
      "Epoch 13/100\n",
      "79/79 [==============================] - 1s 8ms/step - loss: 3.0998e-04\n",
      "Epoch 14/100\n",
      "79/79 [==============================] - 1s 8ms/step - loss: 2.9757e-04\n",
      "Epoch 15/100\n",
      "79/79 [==============================] - 1s 8ms/step - loss: 2.8474e-04\n",
      "Epoch 16/100\n",
      "79/79 [==============================] - 1s 9ms/step - loss: 2.8453e-04\n",
      "Epoch 17/100\n",
      "79/79 [==============================] - 1s 9ms/step - loss: 2.6198e-04\n",
      "Epoch 18/100\n",
      "79/79 [==============================] - 1s 8ms/step - loss: 2.7464e-04\n",
      "Epoch 19/100\n",
      "79/79 [==============================] - 1s 8ms/step - loss: 2.5100e-04\n",
      "Epoch 20/100\n",
      "79/79 [==============================] - 1s 8ms/step - loss: 2.4157e-04\n",
      "Epoch 21/100\n",
      "79/79 [==============================] - 1s 8ms/step - loss: 2.4760e-04\n",
      "Epoch 22/100\n",
      "79/79 [==============================] - 1s 8ms/step - loss: 2.4329e-04\n",
      "Epoch 23/100\n",
      "79/79 [==============================] - 1s 9ms/step - loss: 2.3209e-04\n",
      "Epoch 24/100\n",
      "79/79 [==============================] - 1s 8ms/step - loss: 2.3055e-04\n",
      "Epoch 25/100\n",
      "79/79 [==============================] - 1s 8ms/step - loss: 2.2552e-04\n",
      "Epoch 26/100\n",
      "79/79 [==============================] - 1s 9ms/step - loss: 2.2360e-04\n",
      "Epoch 27/100\n",
      "79/79 [==============================] - 1s 9ms/step - loss: 2.2145e-04\n",
      "Epoch 28/100\n",
      "79/79 [==============================] - 1s 9ms/step - loss: 2.2136e-04\n",
      "Epoch 29/100\n",
      "79/79 [==============================] - 1s 9ms/step - loss: 2.1273e-04\n",
      "Epoch 30/100\n",
      "79/79 [==============================] - 1s 9ms/step - loss: 2.0949e-04\n",
      "Epoch 31/100\n",
      "79/79 [==============================] - 1s 9ms/step - loss: 2.0360e-04\n",
      "Epoch 32/100\n",
      "79/79 [==============================] - 1s 9ms/step - loss: 2.0665e-04\n",
      "Epoch 33/100\n",
      "79/79 [==============================] - 1s 9ms/step - loss: 2.0002e-04\n",
      "Epoch 34/100\n",
      "79/79 [==============================] - 1s 9ms/step - loss: 1.8115e-04\n",
      "Epoch 35/100\n",
      "79/79 [==============================] - 1s 8ms/step - loss: 1.8399e-04\n",
      "Epoch 36/100\n",
      "79/79 [==============================] - 1s 9ms/step - loss: 1.9111e-04\n",
      "Epoch 37/100\n",
      "79/79 [==============================] - 1s 9ms/step - loss: 1.8348e-04\n",
      "Epoch 38/100\n",
      "79/79 [==============================] - 1s 8ms/step - loss: 1.8371e-04\n",
      "Epoch 39/100\n",
      "79/79 [==============================] - 1s 10ms/step - loss: 1.7881e-04\n",
      "Epoch 40/100\n",
      "79/79 [==============================] - 1s 11ms/step - loss: 1.6987e-04\n",
      "Epoch 41/100\n",
      "79/79 [==============================] - 1s 10ms/step - loss: 1.6206e-04\n",
      "Epoch 42/100\n",
      "79/79 [==============================] - 1s 9ms/step - loss: 1.8629e-04\n",
      "Epoch 43/100\n",
      "79/79 [==============================] - 1s 11ms/step - loss: 1.6527e-04\n",
      "Epoch 44/100\n",
      "79/79 [==============================] - 1s 10ms/step - loss: 1.7042e-04\n",
      "Epoch 45/100\n",
      "79/79 [==============================] - 1s 10ms/step - loss: 1.5471e-04\n",
      "Epoch 46/100\n",
      "79/79 [==============================] - 1s 10ms/step - loss: 1.5820e-04\n",
      "Epoch 47/100\n",
      "79/79 [==============================] - 1s 10ms/step - loss: 1.6544e-04\n",
      "Epoch 48/100\n",
      "79/79 [==============================] - 1s 10ms/step - loss: 1.5903e-04\n",
      "Epoch 49/100\n",
      "79/79 [==============================] - 1s 9ms/step - loss: 1.5546e-04\n",
      "Epoch 50/100\n",
      "79/79 [==============================] - 1s 10ms/step - loss: 1.6578e-04\n",
      "Epoch 51/100\n",
      "79/79 [==============================] - 1s 10ms/step - loss: 1.4939e-04\n",
      "Epoch 52/100\n",
      "79/79 [==============================] - 1s 10ms/step - loss: 1.4935e-04\n",
      "Epoch 53/100\n",
      "79/79 [==============================] - 1s 10ms/step - loss: 1.4795e-04\n",
      "Epoch 54/100\n",
      "79/79 [==============================] - 1s 10ms/step - loss: 1.3742e-04\n",
      "Epoch 55/100\n",
      "79/79 [==============================] - 1s 9ms/step - loss: 1.4654e-04\n",
      "Epoch 56/100\n",
      "79/79 [==============================] - 1s 9ms/step - loss: 1.4242e-04\n",
      "Epoch 57/100\n",
      "79/79 [==============================] - 1s 10ms/step - loss: 1.4746e-04\n",
      "Epoch 58/100\n",
      "79/79 [==============================] - 1s 9ms/step - loss: 1.3656e-04\n",
      "Epoch 59/100\n",
      "79/79 [==============================] - 1s 9ms/step - loss: 1.3579e-04\n",
      "Epoch 60/100\n",
      "79/79 [==============================] - 1s 10ms/step - loss: 1.3550e-04\n",
      "Epoch 61/100\n",
      "79/79 [==============================] - 1s 10ms/step - loss: 1.4526e-04\n",
      "Epoch 62/100\n",
      "79/79 [==============================] - 1s 9ms/step - loss: 1.3299e-04\n",
      "Epoch 63/100\n",
      "79/79 [==============================] - 1s 9ms/step - loss: 1.3518e-04\n",
      "Epoch 64/100\n",
      "79/79 [==============================] - 1s 11ms/step - loss: 1.3847e-04\n",
      "Epoch 65/100\n",
      "79/79 [==============================] - 1s 12ms/step - loss: 1.3081e-04\n",
      "Epoch 66/100\n",
      "79/79 [==============================] - 1s 10ms/step - loss: 1.2684e-04\n",
      "Epoch 67/100\n",
      "79/79 [==============================] - 1s 10ms/step - loss: 1.2782e-04\n",
      "Epoch 68/100\n",
      "79/79 [==============================] - 1s 9ms/step - loss: 1.3117e-04\n",
      "Epoch 69/100\n",
      "79/79 [==============================] - 1s 8ms/step - loss: 1.3530e-04\n",
      "Epoch 70/100\n",
      "79/79 [==============================] - 1s 9ms/step - loss: 1.1251e-04\n",
      "Epoch 71/100\n",
      "79/79 [==============================] - 1s 9ms/step - loss: 1.2494e-04\n",
      "Epoch 72/100\n",
      "79/79 [==============================] - 1s 9ms/step - loss: 1.2366e-04\n",
      "Epoch 73/100\n",
      "79/79 [==============================] - 1s 9ms/step - loss: 1.2091e-04\n",
      "Epoch 74/100\n",
      "79/79 [==============================] - 1s 9ms/step - loss: 1.1687e-04\n",
      "Epoch 75/100\n",
      "79/79 [==============================] - 1s 9ms/step - loss: 1.1772e-04\n",
      "Epoch 76/100\n",
      "79/79 [==============================] - 1s 12ms/step - loss: 1.1686e-04\n",
      "Epoch 77/100\n",
      "79/79 [==============================] - 1s 9ms/step - loss: 1.0846e-04\n",
      "Epoch 78/100\n",
      "79/79 [==============================] - 1s 9ms/step - loss: 1.2055e-04\n",
      "Epoch 79/100\n",
      "79/79 [==============================] - 1s 9ms/step - loss: 1.2242e-04\n",
      "Epoch 80/100\n",
      "79/79 [==============================] - 1s 9ms/step - loss: 1.1604e-04\n",
      "Epoch 81/100\n",
      "79/79 [==============================] - 1s 11ms/step - loss: 1.1910e-04\n",
      "Epoch 82/100\n",
      "79/79 [==============================] - 1s 10ms/step - loss: 1.1263e-04\n",
      "Epoch 83/100\n",
      "79/79 [==============================] - 1s 9ms/step - loss: 1.1510e-04\n",
      "Epoch 84/100\n",
      "79/79 [==============================] - 1s 10ms/step - loss: 1.0943e-04\n",
      "Epoch 85/100\n",
      "79/79 [==============================] - 1s 9ms/step - loss: 1.0738e-04\n",
      "Epoch 86/100\n",
      "79/79 [==============================] - 1s 9ms/step - loss: 1.0798e-04\n",
      "Epoch 87/100\n",
      "79/79 [==============================] - 1s 9ms/step - loss: 1.2507e-04\n",
      "Epoch 88/100\n",
      "79/79 [==============================] - 1s 9ms/step - loss: 1.1423e-04\n",
      "Epoch 89/100\n",
      "79/79 [==============================] - 1s 9ms/step - loss: 1.0434e-04\n",
      "Epoch 90/100\n",
      "79/79 [==============================] - 1s 9ms/step - loss: 1.0492e-04\n",
      "Epoch 91/100\n",
      "79/79 [==============================] - 1s 10ms/step - loss: 1.1175e-04\n",
      "Epoch 92/100\n",
      "79/79 [==============================] - 1s 12ms/step - loss: 1.0751e-04\n",
      "Epoch 93/100\n",
      "79/79 [==============================] - 1s 11ms/step - loss: 1.0503e-04\n",
      "Epoch 94/100\n",
      "79/79 [==============================] - 1s 11ms/step - loss: 1.0028e-04\n",
      "Epoch 95/100\n",
      "79/79 [==============================] - 1s 10ms/step - loss: 1.1408e-04\n",
      "Epoch 96/100\n",
      "79/79 [==============================] - 1s 9ms/step - loss: 1.0690e-04\n",
      "Epoch 97/100\n"
     ]
    },
    {
     "name": "stdout",
     "output_type": "stream",
     "text": [
      "79/79 [==============================] - 1s 9ms/step - loss: 1.0004e-04\n",
      "Epoch 98/100\n",
      "79/79 [==============================] - 1s 9ms/step - loss: 9.9003e-05\n",
      "Epoch 99/100\n",
      "79/79 [==============================] - 1s 9ms/step - loss: 9.6151e-05\n",
      "Epoch 100/100\n",
      "79/79 [==============================] - 1s 9ms/step - loss: 9.7152e-05\n"
     ]
    },
    {
     "data": {
      "text/plain": [
       "<keras.callbacks.History at 0x211efabebe0>"
      ]
     },
     "execution_count": 16,
     "metadata": {},
     "output_type": "execute_result"
    }
   ],
   "source": [
    "from sklearn.metrics import mean_absolute_error\n",
    "from keras.models import Sequential\n",
    "from keras.layers import Dense, LSTM, Dropout,Flatten\n",
    "\n",
    "model=Sequential()\n",
    "\n",
    "model.add(LSTM(10,input_shape=(None,1),activation=\"relu\"))\n",
    "\n",
    "model.add(Dense(1))\n",
    "\n",
    "model.compile(loss=\"mean_squared_error\",optimizer=\"adam\")\n",
    "\n",
    "model.fit(x_train,y_train,epochs=100,batch_size=32)"
   ]
  },
  {
   "cell_type": "code",
   "execution_count": 17,
   "id": "248c5117",
   "metadata": {},
   "outputs": [],
   "source": [
    "inputs=data[len(data)-len(close_test)-timestep:]\n",
    "inputs=inputs.values.reshape(-1,1)\n",
    "inputs=scaler.transform(inputs)"
   ]
  },
  {
   "cell_type": "code",
   "execution_count": 18,
   "id": "86815ade",
   "metadata": {},
   "outputs": [],
   "source": [
    "x_test=[]\n",
    "for i in range(timestep,inputs.shape[0]):\n",
    "    x_test.append(inputs[i-timestep:i,0])\n",
    "x_test=np.array(x_test)\n",
    "x_test=x_test.reshape(x_test.shape[0],x_test.shape[1],1)"
   ]
  },
  {
   "cell_type": "code",
   "execution_count": 19,
   "id": "ee8f2ebe",
   "metadata": {},
   "outputs": [
    {
     "name": "stdout",
     "output_type": "stream",
     "text": [
      "2/2 [==============================] - 0s 3ms/step\n"
     ]
    }
   ],
   "source": [
    "predicted_data=model.predict(x_test)\n",
    "predicted_data=scaler.inverse_transform(predicted_data)"
   ]
  },
  {
   "cell_type": "code",
   "execution_count": 20,
   "id": "bd012041",
   "metadata": {},
   "outputs": [],
   "source": [
    "data_test=np.array(close_test)\n",
    "data_test=data_test.reshape(len(data_test),1)"
   ]
  },
  {
   "cell_type": "code",
   "execution_count": 20,
   "id": "8f15316c",
   "metadata": {},
   "outputs": [
    {
     "data": {
      "image/png": "[encoded data removed]",
      "text/plain": [
       "<Figure size 640x320 with 1 Axes>"
      ]
     },
     "metadata": {},
     "output_type": "display_data"
    }
   ],
   "source": [
    "plt.figure(figsize=(8,4), dpi=80, facecolor='w', edgecolor='k')\n",
    "plt.plot(data_test,color=\"r\",label=\"true result\")\n",
    "plt.plot(predicted_data,color=\"b\",label=\"predicted result\")\n",
    "plt.legend()\n",
    "plt.xlabel(\"Time(50 days)\")\n",
    "plt.ylabel(\"Close Values\")\n",
    "plt.grid(True)\n",
    "plt.show()\n"
   ]
  },
  {
   "cell_type": "code",
   "execution_count": null,
   "id": "9c166ec6",
   "metadata": {},
   "outputs": [],
   "source": []
  }
 ],
 "metadata": {
  "kernelspec": {
   "display_name": "Python 3 (ipykernel)",
   "language": "python",
   "name": "python3"
  },
  "language_info": {
   "codemirror_mode": {
    "name": "ipython",
    "version": 3
   },
   "file_extension": ".py",
   "mimetype": "text/x-python",
   "name": "python",
   "nbconvert_exporter": "python",
   "pygments_lexer": "ipython3",
   "version": "3.9.7"
  }
 },
 "nbformat": 4,
 "nbformat_minor": 5
}
